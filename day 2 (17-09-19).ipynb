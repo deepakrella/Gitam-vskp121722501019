{
 "cells": [
  {
   "cell_type": "markdown",
   "metadata": {},
   "source": [
    "## controll statements \n",
    "- conditional statments or selection statements\n",
    "   - if-else\n",
    "- iterational statments or looping statemnets \n",
    "   - while \n",
    "   - for\n",
    "   "
   ]
  },
  {
   "cell_type": "code",
   "execution_count": 2,
   "metadata": {},
   "outputs": [
    {
     "name": "stdout",
     "output_type": "stream",
     "text": [
      "5345\n",
      "not a leap year\n"
     ]
    }
   ],
   "source": [
    "#check the input is leap year or not\n",
    "year = int(input(''))\n",
    "if year % 400 == 0 or ( year % 100 != 0 and year % 4 ==0):\n",
    "    print ('leap year')\n",
    "else:\n",
    "    print ('not a leap year')\n",
    "    "
   ]
  },
  {
   "cell_type": "code",
   "execution_count": 6,
   "metadata": {
    "scrolled": true
   },
   "outputs": [
    {
     "name": "stdout",
     "output_type": "stream",
     "text": [
      "enter a number :22\n",
      "1 2 3 4 5 6 7 8 9 10 11 12 13 14 15 16 17 18 19 20 21 22 "
     ]
    }
   ],
   "source": [
    "n = int(input('enter a number :'))\n",
    "i = 1\n",
    "while i <= n:\n",
    "    print (i,end= \" \")\n",
    "    i=i+1\n",
    "    \n",
    "    \n"
   ]
  },
  {
   "cell_type": "code",
   "execution_count": 2,
   "metadata": {},
   "outputs": [
    {
     "name": "stdout",
     "output_type": "stream",
     "text": [
      "enter a number :40\n",
      "420\n"
     ]
    }
   ],
   "source": [
    "# read a number as input and get output as even no sum\n",
    "z = int(input('enter a number :'))\n",
    "j = 1\n",
    "s = 0\n",
    "while j <= z:\n",
    "    if j%2 == 0:\n",
    "        s = s + j\n",
    "    j = j + 1    \n",
    "print(s)"
   ]
  },
  {
   "cell_type": "code",
   "execution_count": 4,
   "metadata": {},
   "outputs": [
    {
     "name": "stdout",
     "output_type": "stream",
     "text": [
      "123\n",
      "3 2 1 "
     ]
    }
   ],
   "source": [
    "# read  a number \n",
    "# ouput is reverse order of digits \n",
    "n = int(input(''))\n",
    "while n !=0:\n",
    "    print(n%10,end=' ')\n",
    "    n = n//10\n",
    "    "
   ]
  },
  {
   "cell_type": "markdown",
   "metadata": {},
   "source": [
    "## functional programming\n",
    "- simple \n",
    "- easy understand \n",
    "- better reuseability\n",
    "- lenghty program will be divided into sub programs \n"
   ]
  },
  {
   "cell_type": "code",
   "execution_count": 6,
   "metadata": {},
   "outputs": [
    {
     "data": {
      "text/plain": [
       "6"
      ]
     },
     "execution_count": 6,
     "metadata": {},
     "output_type": "execute_result"
    }
   ],
   "source": [
    "# read n number \n",
    "# print the sum of even digits from number\n",
    "# input 1234\n",
    "# output 2+4 = 6\n",
    "def evenDigitSum(n):\n",
    "    s = 0\n",
    "    while n != 0:\n",
    "        r = n % 10\n",
    "        if r % 2==0:\n",
    "            s = s+r\n",
    "        n=n//10    \n",
    "    return s\n",
    "evenDigitSum(1234)"
   ]
  },
  {
   "cell_type": "code",
   "execution_count": 1,
   "metadata": {},
   "outputs": [
    {
     "data": {
      "text/plain": [
       "9"
      ]
     },
     "execution_count": 1,
     "metadata": {},
     "output_type": "execute_result"
    }
   ],
   "source": [
    "# input : 19535\n",
    "# output : 9 (largest from digit)\n",
    "def largestDigit(a):\n",
    "    n=0\n",
    "    while a != 0:\n",
    "        r = a % 10\n",
    "        if r >= n:\n",
    "            n=r\n",
    "        a=a//10\n",
    "    return n\n",
    "largestDigit(19353)\n",
    "\n",
    "        \n",
    "        \n",
    "         "
   ]
  },
  {
   "cell_type": "code",
   "execution_count": 18,
   "metadata": {},
   "outputs": [
    {
     "name": "stdout",
     "output_type": "stream",
     "text": [
      "145\n",
      "9\n"
     ]
    }
   ],
   "source": [
    "# read a number as input \n",
    "def factorialSum(n):\n",
    "    s=0\n",
    "    while n!=0:\n",
    "        fc=1\n",
    "        m= n%10\n",
    "        while m >=1:\n",
    "            fc=fc*m\n",
    "            m=m-1    \n",
    "        s=s+fc\n",
    "        n=n//10\n",
    "    \n",
    "    print(s)\n",
    "    return\n",
    "factorialSum(145)\n",
    "factorialSum(123)\n",
    "    \n",
    "        \n",
    "            "
   ]
  },
  {
   "cell_type": "code",
   "execution_count": 9,
   "metadata": {},
   "outputs": [
    {
     "name": "stdout",
     "output_type": "stream",
     "text": [
      "is palindrom\n",
      "is not palindrom\n"
     ]
    }
   ],
   "source": [
    "def isPalindrome(n):\n",
    "    s=0\n",
    "    k=n\n",
    "    while n!=0:\n",
    "        m=n%10\n",
    "        s=s*10+m\n",
    "        n=n//10\n",
    "    if k==s:\n",
    "        print ('is palindrom')\n",
    "    else:\n",
    "        print ('is not palindrom')\n",
    "    return    \n",
    "isPalindrome(121)\n",
    "isPalindrome(123)"
   ]
  },
  {
   "cell_type": "code",
   "execution_count": 10,
   "metadata": {},
   "outputs": [
    {
     "name": "stdout",
     "output_type": "stream",
     "text": [
      "11 12 13 14 15 16 17 18 19 20 21 22 23 24 25 "
     ]
    }
   ],
   "source": [
    "def printSeries(lb,ub):\n",
    "    for x in range(lb,ub+1):\n",
    "        print(x,end=' ')\n",
    "    return \n",
    "printSeries(11,25)"
   ]
  },
  {
   "cell_type": "code",
   "execution_count": 2,
   "metadata": {},
   "outputs": [
    {
     "name": "stdout",
     "output_type": "stream",
     "text": [
      "500 502 504 506 508 510 512 514 516 518 520 522 524 526 528 530 532 534 536 538 540 542 544 546 548 550 "
     ]
    }
   ],
   "source": [
    "def printSeries(lb,ub):\n",
    "    for x in range(lb,ub+1,2):\n",
    "        print(x,end=' ')\n",
    "    return \n",
    "printSeries(500,550)"
   ]
  },
  {
   "cell_type": "code",
   "execution_count": 3,
   "metadata": {},
   "outputs": [
    {
     "name": "stdout",
     "output_type": "stream",
     "text": [
      "Yes\n",
      "No\n"
     ]
    }
   ],
   "source": [
    "# Read a number as input\n",
    "#Output Yes or No\n",
    "\n",
    "#Input : 145\n",
    "#Output : Yes\n",
    "\n",
    "#Input : 123\n",
    "#Output : No\n",
    "# Individual Digit Factorial Sum is same as input Number\n",
    " # 145-- 5 4 1\n",
    " # 5!--120\n",
    " # 4!--24\n",
    " # 1!--1\n",
    "\n",
    "def factorial(n):\n",
    "    fact = 1\n",
    "    i = 1\n",
    "    while i <= n:\n",
    "        fact = fact * i ### find the fact of the number\n",
    "        i = i + 1\n",
    "    return fact\n",
    "\n",
    "def digitFactSum(n):\n",
    "    s=0\n",
    "    buffer = n ##store the input value in buffer because n will be zero after the while loop\n",
    "    while n != 0:\n",
    "        r = n % 10\n",
    "        s += factorial(r)\n",
    "        n = n // 10\n",
    "    if buffer == s:\n",
    "        return \"Yes\"##### Compares s with Buffer\n",
    "    else:\n",
    "        return \"No\"\n",
    "    return\n",
    "\n",
    "print(digitFactSum(145))#Yes\n",
    "print(digitFactSum(123))#No"
   ]
  }
 ],
 "metadata": {
  "kernelspec": {
   "display_name": "Python 3",
   "language": "python",
   "name": "python3"
  },
  "language_info": {
   "codemirror_mode": {
    "name": "ipython",
    "version": 3
   },
   "file_extension": ".py",
   "mimetype": "text/x-python",
   "name": "python",
   "nbconvert_exporter": "python",
   "pygments_lexer": "ipython3",
   "version": "3.7.3"
  }
 },
 "nbformat": 4,
 "nbformat_minor": 2
}
