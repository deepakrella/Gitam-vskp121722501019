{
 "cells": [
  {
   "cell_type": "code",
   "execution_count": null,
   "metadata": {},
   "outputs": [],
   "source": []
  },
  {
   "cell_type": "markdown",
   "metadata": {},
   "source": [
    "# string"
   ]
  },
  {
   "cell_type": "code",
   "execution_count": 1,
   "metadata": {},
   "outputs": [
    {
     "name": "stdout",
     "output_type": "stream",
     "text": [
      "p\n",
      "y\n",
      "6\n",
      "n\n",
      "n\n",
      "o\n"
     ]
    }
   ],
   "source": [
    "s1= \"python\"\n",
    "print(s1[0]) # acessing the first character in a string\n",
    "print(s1[1]) # acessing the second character ina string\n",
    "print(len(s1))#len of string\n",
    "print(s1[len(s1)-1]) #acess the last charater of the string\n",
    "print(s1[-1]) # another access way to acess the last character\n",
    "print(s1[-2])\n",
    "\n"
   ]
  },
  {
   "cell_type": "code",
   "execution_count": 2,
   "metadata": {},
   "outputs": [
    {
     "name": "stdout",
     "output_type": "stream",
     "text": [
      "py\n",
      "on\n",
      "yp\n",
      "ytho\n",
      "nohtyp\n",
      "pto\n",
      "nhy\n",
      "po\n"
     ]
    }
   ],
   "source": [
    "print(s1[0:2]) # acess the first two characters\n",
    "print(s1[-2:]) # acess the last two characters\n",
    "print(s1[1::-1]) # print the first and last character \n",
    "print(s1[1:-1]) # print the except first and last character \n",
    "print(s1[-1::-1]) # print the reverse of string\n",
    "print(s1[::2]) # acess the character in string alternate \n",
    "print(s1[::-2]) # acess the alternate characters from reverse direction\n",
    "print(s1[::4]) "
   ]
  },
  {
   "cell_type": "markdown",
   "metadata": {},
   "source": [
    "## function with string operation"
   ]
  },
  {
   "cell_type": "code",
   "execution_count": 3,
   "metadata": {},
   "outputs": [
    {
     "data": {
      "text/plain": [
       "'nohtyp'"
      ]
     },
     "execution_count": 3,
     "metadata": {},
     "output_type": "execute_result"
    }
   ],
   "source": [
    "# reverse the string\n",
    "def reverseStr(s):\n",
    "    return s[-1::-1]\n",
    "reverseStr('python')"
   ]
  },
  {
   "cell_type": "code",
   "execution_count": 4,
   "metadata": {},
   "outputs": [
    {
     "name": "stdout",
     "output_type": "stream",
     "text": [
      "False\n",
      "True\n"
     ]
    }
   ],
   "source": [
    "#to check the given string is palindrome or not a plaindrome\n",
    "def isPalindrome(s):\n",
    "    if s==s[-1::-1]:\n",
    "        return True\n",
    "    return False\n",
    "print(isPalindrome('python'))\n",
    "print(isPalindrome('abccba'))"
   ]
  },
  {
   "cell_type": "code",
   "execution_count": 5,
   "metadata": {},
   "outputs": [
    {
     "name": "stdout",
     "output_type": "stream",
     "text": [
      "PT"
     ]
    }
   ],
   "source": [
    "# function to print the upper case character\n",
    "# example : PyThon -- P   T\n",
    "# ASCII\n",
    "# A - Z : 65 -90\n",
    "# a - z :97 - 122\n",
    "# 0 - 9 : 48 - 57\n",
    "# space : 32\n",
    "\n",
    "def printUpper(s):\n",
    "    for i in range(len(s)):\n",
    "        if ord(s[i])>= 65 and ord(s[i])<=90:\n",
    "            print(s[i],end='')\n",
    "    return \n",
    "printUpper('PyThon')# P  T"
   ]
  },
  {
   "cell_type": "code",
   "execution_count": 6,
   "metadata": {},
   "outputs": [
    {
     "name": "stdout",
     "output_type": "stream",
     "text": [
      " SameCount\n",
      "Programming\n"
     ]
    }
   ],
   "source": [
    "#  function to return the output as \"SameCount\" or \"Programming\"\n",
    "\n",
    "\n",
    "def stringInput(s):\n",
    "    count_up=0\n",
    "    count_low=0\n",
    "    for i in range(len(s)):\n",
    "        if ord(s[i])>= 65 and ord(s[i])<=90:\n",
    "            count_up = count_up+1\n",
    "        if ord(s[i])>= 97 and ord(s[i])<=122:   \n",
    "            count_low = count_low+1   \n",
    "    if count_low == count_up:\n",
    "        print(\" SameCount\")\n",
    "    else:\n",
    "        print(\"Programming\")\n",
    "    return     \n",
    "stringInput('PyThOn') \n",
    "stringInput('DeePak')  \n",
    "            \n"
   ]
  },
  {
   "cell_type": "code",
   "execution_count": 7,
   "metadata": {},
   "outputs": [
    {
     "name": "stdout",
     "output_type": "stream",
     "text": [
      "66767867867868"
     ]
    }
   ],
   "source": [
    "# print al the number from all string\n",
    "def stringInput(s):\n",
    "    for i in range(len(s)):\n",
    "        if ord(s[i])>= 48 and ord(s[i])<=57:\n",
    "            print(s[i],end='')\n",
    "    return \n",
    "stringInput('bf667ghgbGgbj678678yu67868')            \n",
    "       \n",
    "    "
   ]
  },
  {
   "cell_type": "code",
   "execution_count": 8,
   "metadata": {},
   "outputs": [
    {
     "data": {
      "text/plain": [
       "96"
      ]
     },
     "execution_count": 8,
     "metadata": {},
     "output_type": "execute_result"
    }
   ],
   "source": [
    "# print sum of al the number from all string\n",
    "def stringInput(s):\n",
    "    sum=0 \n",
    "    for i in range(len(s)):\n",
    "        if ord(s[i])>= 48 and ord(s[i])<=57:\n",
    "            #sum=sum+int(s[i])\n",
    "            sum=sum+(ord(s[i])-48)\n",
    "    return sum\n",
    "stringInput('bf667ghgbGgbj678678yu67868')           \n",
    "       \n",
    "\n",
    "              "
   ]
  },
  {
   "cell_type": "code",
   "execution_count": 9,
   "metadata": {},
   "outputs": [
    {
     "name": "stdout",
     "output_type": "stream",
     "text": [
      "HKJKH"
     ]
    }
   ],
   "source": [
    "# function to print 2nd word in uper case \n",
    "# ex: input = Python made easy\n",
    "# output = MADE\n",
    "def stringInput(s):\n",
    "    count=0\n",
    "    for i in range(len(s)):\n",
    "        if ord(s[i])==32:\n",
    "            count=count+1\n",
    "        if count==2:\n",
    "             if ord(s[i])>= 65 and ord(s[i])<=90:\n",
    "                    print(s[i],end='')\n",
    "            \n",
    "             elif ord(s[i])>= 97 and ord(s[i])<=122:  \n",
    "                print(chr(ord(s[i])-32),end='')\n",
    "        if count==3:\n",
    "            break\n",
    "            \n",
    "    return\n",
    "stringInput('sjhj kjhkj hkjkh')\n",
    "\n",
    "            \n",
    "            \n",
    "        "
   ]
  },
  {
   "cell_type": "code",
   "execution_count": 10,
   "metadata": {},
   "outputs": [
    {
     "data": {
      "text/plain": [
       "'MADE'"
      ]
     },
     "execution_count": 10,
     "metadata": {},
     "output_type": "execute_result"
    }
   ],
   "source": [
    "str1= \"python made easy\"\n",
    "list1=str1.split()\n",
    "list1[1].upper()"
   ]
  },
  {
   "cell_type": "markdown",
   "metadata": {},
   "source": [
    "# List\n",
    "- one of the data structure\n",
    "- DS means to store , sort and Search options\n",
    "- it is the comman ds in python, the items of list seperated by comma and enclosed in squsre brsckets []\n",
    "   - ex:\n",
    "        - list1 = [1,2,3,4]\n",
    "        - list = [1,2,gh,58]\n",
    "        "
   ]
  },
  {
   "cell_type": "code",
   "execution_count": 11,
   "metadata": {},
   "outputs": [
    {
     "name": "stdout",
     "output_type": "stream",
     "text": [
      "[1, 25, 256, 145]\n",
      "1\n",
      "25\n",
      "145\n",
      "256\n",
      "[256, 145]\n"
     ]
    }
   ],
   "source": [
    "li= [1,25,256,145]\n",
    "print(li)\n",
    "print(li[0])\n",
    "print(li[1])\n",
    "print(li[-1])\n",
    "print(li[-2])\n",
    "print(li[2:])\n",
    "\n"
   ]
  },
  {
   "cell_type": "code",
   "execution_count": 12,
   "metadata": {},
   "outputs": [
    {
     "name": "stdout",
     "output_type": "stream",
     "text": [
      "[435, 1234, 75367, 'vdv', 546, 'gt', 'ghy', 435]\n"
     ]
    }
   ],
   "source": [
    "#update the list value\n",
    "li=[435,6478,75367,\"vdv\",546,\"gt\",\"ghy\",435]\n",
    "li[1]=1234\n",
    "print(li)"
   ]
  },
  {
   "cell_type": "code",
   "execution_count": 13,
   "metadata": {},
   "outputs": [
    {
     "name": "stdout",
     "output_type": "stream",
     "text": [
      "[435, 1234, 75367, 'vdv', 546, 'gt', 435]\n"
     ]
    }
   ],
   "source": [
    "#delete the item from list\n",
    "del li[6]\n",
    "print(li)\n"
   ]
  },
  {
   "cell_type": "code",
   "execution_count": 14,
   "metadata": {},
   "outputs": [
    {
     "name": "stdout",
     "output_type": "stream",
     "text": [
      "4\n",
      "[1, 2, 3, 4, 1, 2, 3, 4]\n",
      "True\n",
      "False\n",
      "1 \n",
      "2 \n",
      "3 \n",
      "4 \n",
      "1234"
     ]
    }
   ],
   "source": [
    "# basic operation using  list\n",
    "li=[1,2,3,4]\n",
    "#length of list\n",
    "print(len(li))\n",
    "#list repitation\n",
    "print(li*2)\n",
    "# to know certian item present in list in list or not\n",
    "print(4 in li)\n",
    "print(10 in li)\n",
    "# to know certian item by iteration\n",
    "# 1 way to define \n",
    "for i in range (len(li)):\n",
    "    print(li[i],end=' ')\n",
    "    print()\n",
    "# 2nd way to define   \n",
    "for i in li:\n",
    "    print(i,end='')\n",
    "    \n"
   ]
  },
  {
   "cell_type": "code",
   "execution_count": 15,
   "metadata": {},
   "outputs": [
    {
     "name": "stdout",
     "output_type": "stream",
     "text": [
      "25\n",
      "1\n",
      "56\n",
      "11\n"
     ]
    }
   ],
   "source": [
    "# Basic list Functions\n",
    "li=[1,9,16,25,5]\n",
    "print(max(li)) # max number of list\n",
    "print(min(li)) # min number of list\n",
    "print(sum(li)) # sum of all list items\n",
    "print(sum(li)//len(li)) #Avg of list items"
   ]
  },
  {
   "cell_type": "code",
   "execution_count": 16,
   "metadata": {},
   "outputs": [
    {
     "name": "stdout",
     "output_type": "stream",
     "text": [
      "[1, 25, 57, 4, 5, 26, 9]\n"
     ]
    },
    {
     "data": {
      "text/plain": [
       "1"
      ]
     },
     "execution_count": 16,
     "metadata": {},
     "output_type": "execute_result"
    }
   ],
   "source": [
    "#methods of list \n",
    "li =[1,25,4,5]\n",
    "li.append(26)#append the value at the end\n",
    "li.insert(2,57)#add the item at the specific index\n",
    "li.append(9)\n",
    "print(li)\n",
    "li.count(9)# its count the specific element \n"
   ]
  },
  {
   "cell_type": "code",
   "execution_count": 17,
   "metadata": {},
   "outputs": [
    {
     "data": {
      "text/plain": [
       "[1, 5, 9, 25, 26]"
      ]
     },
     "execution_count": 17,
     "metadata": {},
     "output_type": "execute_result"
    }
   ],
   "source": [
    "# methods of list object \n",
    "li.sort() #sorts the list in asending order\n",
    "li.pop() #last index value will be poping out\n",
    "li.pop(1)# removes the particlur element from index\n",
    "li\n"
   ]
  },
  {
   "cell_type": "code",
   "execution_count": 18,
   "metadata": {},
   "outputs": [
    {
     "name": "stdout",
     "output_type": "stream",
     "text": [
      "[1, 25, 4, 5, 1, 5, 9, 6]\n"
     ]
    }
   ],
   "source": [
    "lis=[1,5,9,6]\n",
    "li =[1,25,4,5]\n",
    "li.extend(lis)\n",
    "print(li)\n"
   ]
  },
  {
   "cell_type": "code",
   "execution_count": 19,
   "metadata": {},
   "outputs": [
    {
     "name": "stdout",
     "output_type": "stream",
     "text": [
      "565\n",
      "65\n"
     ]
    }
   ],
   "source": [
    "#function to return the large number from list\n",
    "def largeNumber(li):\n",
    "    li.sort()\n",
    "    return li[-1]\n",
    "def genericLarge(li,n):\n",
    "    li.sort()\n",
    "    return li[-n]\n",
    "li=[5,56,98,65,565]\n",
    "print(largeNumber(li))\n",
    "print(genericLarge(li,3))"
   ]
  },
  {
   "cell_type": "code",
   "execution_count": 20,
   "metadata": {},
   "outputs": [
    {
     "name": "stdout",
     "output_type": "stream",
     "text": [
      "1\n",
      "19\n"
     ]
    }
   ],
   "source": [
    "#function to find least and generic least number from the list\n",
    "def leastnumber(li):\n",
    "    li.sort()\n",
    "    return li[0]\n",
    "def genericLeastNumber(li,n):\n",
    "    li.sort()\n",
    "    return li[n-1]\n",
    "li=[19,1,25,6,9,45,22]\n",
    "print(leastnumber(li))\n",
    "print(genericLeastNumber(li,4))"
   ]
  },
  {
   "cell_type": "markdown",
   "metadata": {},
   "source": [
    "### file handling in python\n",
    "- file - document which contain some information and resides on perment device \n",
    "- differebt type of file system: - pdf,ppf ,doc ,txt ,etc\n",
    "- input = keyboard\n",
    "- output = file system"
   ]
  },
  {
   "cell_type": "code",
   "execution_count": 21,
   "metadata": {},
   "outputs": [
    {
     "name": "stdout",
     "output_type": "stream",
     "text": [
      "file is made\n"
     ]
    }
   ],
   "source": [
    "#function to create file and write some data to the file \n",
    "def createfile(filename):\n",
    "    f= open(filename,'w')\n",
    "    for i in range (10):\n",
    "        f.write('this is %d line \\n' % i)\n",
    "    print('file is made')\n",
    "    return\n",
    "createfile('data1.txt')"
   ]
  },
  {
   "cell_type": "code",
   "execution_count": 22,
   "metadata": {},
   "outputs": [
    {
     "name": "stdout",
     "output_type": "stream",
     "text": [
      "file is made\n"
     ]
    }
   ],
   "source": [
    "\n",
    "def createfile(filename):\n",
    "    f= open(filename,'a')\n",
    "    \n",
    "    f.write('this is line \\n ')\n",
    "    print('file is made')\n",
    "    return\n",
    "createfile('data1.txt')\n",
    "    "
   ]
  },
  {
   "cell_type": "code",
   "execution_count": 23,
   "metadata": {},
   "outputs": [
    {
     "name": "stdout",
     "output_type": "stream",
     "text": [
      "this is 0 line \n",
      "this is 1 line \n",
      "this is 2 line \n",
      "this is 3 line \n",
      "this is 4 line \n",
      "this is 5 line \n",
      "this is 6 line \n",
      "this is 7 line \n",
      "this is 8 line \n",
      "this is 9 line \n",
      "this is line \n",
      " \n"
     ]
    }
   ],
   "source": [
    "# function to read file\n",
    "def readfiledata(filename):\n",
    "    f = open(filename,'r')\n",
    "    if f.mode=='r':\n",
    "        a=f.read()\n",
    "        print(a)\n",
    "    f.close()\n",
    "    return\n",
    "readfiledata('data1.txt')\n"
   ]
  },
  {
   "cell_type": "code",
   "execution_count": 24,
   "metadata": {},
   "outputs": [
    {
     "name": "stdout",
     "output_type": "stream",
     "text": [
      "['python', 'programming']\n"
     ]
    }
   ],
   "source": [
    "# anaysis on the file -- word count, char counr, digit count \n",
    "s1= \"python programming\"\n",
    "print(s1.split())"
   ]
  },
  {
   "cell_type": "code",
   "execution_count": 25,
   "metadata": {},
   "outputs": [
    {
     "data": {
      "text/plain": [
       "43"
      ]
     },
     "execution_count": 25,
     "metadata": {},
     "output_type": "execute_result"
    }
   ],
   "source": [
    "#word count --input file\n",
    "def wordcount (filename):\n",
    "    with open(filename,'r')as f:\n",
    "        if f.mode=='r':\n",
    "            a=f.read()\n",
    "            li=a.split()#divides the words by using the space\n",
    "    return len(li)\n",
    "wordcount('data1.txt')"
   ]
  },
  {
   "cell_type": "code",
   "execution_count": 26,
   "metadata": {},
   "outputs": [
    {
     "data": {
      "text/plain": [
       "11"
      ]
     },
     "execution_count": 26,
     "metadata": {},
     "output_type": "execute_result"
    }
   ],
   "source": [
    "def wordcount (filename,word):\n",
    "     with open(filename,'r')as f:\n",
    "        if f.mode=='r':\n",
    "            a=f.read()\n",
    "            li=a.split()#divides the words by using the space\n",
    "        return li.count(word)\n",
    "wordcount('data1.txt','this')"
   ]
  },
  {
   "cell_type": "code",
   "execution_count": 27,
   "metadata": {},
   "outputs": [
    {
     "data": {
      "text/plain": [
       "175"
      ]
     },
     "execution_count": 27,
     "metadata": {},
     "output_type": "execute_result"
    }
   ],
   "source": [
    "def wordcount (filename):\n",
    "    with open(filename,'r')as f:\n",
    "        if f.mode=='r':\n",
    "            a=f.read()\n",
    "            li=list(a)\n",
    "    return len(li)\n",
    "wordcount('data1.txt')"
   ]
  },
  {
   "cell_type": "code",
   "execution_count": 28,
   "metadata": {},
   "outputs": [
    {
     "data": {
      "text/plain": [
       "12"
      ]
     },
     "execution_count": 28,
     "metadata": {},
     "output_type": "execute_result"
    }
   ],
   "source": [
    "def findlinecount(filename):\n",
    "     with open(filename,'r')as f:\n",
    "        if f.mode=='r':\n",
    "            a=f.read()\n",
    "            li=a.split('\\n')\n",
    "        return len(li)\n",
    "findlinecount('data1.txt')"
   ]
  },
  {
   "cell_type": "code",
   "execution_count": 33,
   "metadata": {},
   "outputs": [
    {
     "data": {
      "text/plain": [
       "'upper case:0 lower case:110 digit :10'"
      ]
     },
     "execution_count": 33,
     "metadata": {},
     "output_type": "execute_result"
    }
   ],
   "source": [
    "def casecount(filename):\n",
    "    cntupper=0\n",
    "    cntlower=0\n",
    "    cntdigit=0\n",
    "    with open(filename,'r')as f:\n",
    "        if f.mode=='r':\n",
    "            a=f.read()\n",
    "            s=list(a)\n",
    "    for i in range(len(s)):\n",
    "        if ord(s[i])>= 65 and ord(s[i])<=90:\n",
    "            cntupper = cntupper+1\n",
    "        elif ord(s[i])>= 97 and ord(s[i])<=122:   \n",
    "            cntlower = cntlower+1  \n",
    "        elif ord(s[i])>= 48 and ord(s[i])<=57:   \n",
    "            cntdigit = cntdigit +1\n",
    "    output = 'upper case:{0} lower case:{1} digit :{2}'.format( cntupper,cntlower,cntdigit)\n",
    "    return output\n",
    "casecount('data1.txt')\n",
    "        "
   ]
  },
  {
   "cell_type": "code",
   "execution_count": null,
   "metadata": {},
   "outputs": [],
   "source": []
  }
 ],
 "metadata": {
  "kernelspec": {
   "display_name": "Python 3",
   "language": "python",
   "name": "python3"
  },
  "language_info": {
   "codemirror_mode": {
    "name": "ipython",
    "version": 3
   },
   "file_extension": ".py",
   "mimetype": "text/x-python",
   "name": "python",
   "nbconvert_exporter": "python",
   "pygments_lexer": "ipython3",
   "version": "3.7.3"
  }
 },
 "nbformat": 4,
 "nbformat_minor": 2
}
