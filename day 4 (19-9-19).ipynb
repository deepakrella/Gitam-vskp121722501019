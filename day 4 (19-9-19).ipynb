{
 "cells": [
  {
   "cell_type": "markdown",
   "metadata": {},
   "source": [
    "### String function\n",
    "- upper() -- will convert the input string into upper case\n",
    "- lower() -- will convert the input string into lower case"
   ]
  },
  {
   "cell_type": "code",
   "execution_count": 3,
   "metadata": {},
   "outputs": [
    {
     "name": "stdout",
     "output_type": "stream",
     "text": [
      "PYTHON\n",
      "python\n"
     ]
    }
   ],
   "source": [
    "s1= 'python'\n",
    "print(s1.upper())\n",
    "print(s1.lower())"
   ]
  },
  {
   "cell_type": "markdown",
   "metadata": {},
   "source": [
    "## String boolean function\n",
    "- true or false\n",
    "- islower() = print true if all the character having lower case \n",
    "- isupper() = print true if all the character having upper case \n",
    "- istitle() = true if string in title case\n",
    "- isnumeric() = ture if string is numeric"
   ]
  },
  {
   "cell_type": "code",
   "execution_count": 6,
   "metadata": {},
   "outputs": [
    {
     "name": "stdout",
     "output_type": "stream",
     "text": [
      "False\n",
      "True\n"
     ]
    }
   ],
   "source": [
    "s1=\"PYTHON\"\n",
    "print(s1.islower())\n",
    "print(s1.isupper())"
   ]
  },
  {
   "cell_type": "markdown",
   "metadata": {},
   "source": [
    "## string format\n",
    "- classic version\n",
    "- current version python"
   ]
  },
  {
   "cell_type": "code",
   "execution_count": 8,
   "metadata": {},
   "outputs": [
    {
     "name": "stdout",
     "output_type": "stream",
     "text": [
      "pyhton programming \n"
     ]
    }
   ],
   "source": [
    "# classic version ( c or c++ )\n",
    "li =[\"pyhton\",\"programming\"]\n",
    "print ('%s %s ' % (li[0],li[1]))"
   ]
  },
  {
   "cell_type": "code",
   "execution_count": 9,
   "metadata": {},
   "outputs": [
    {
     "name": "stdout",
     "output_type": "stream",
     "text": [
      "1 2  3 4\n"
     ]
    }
   ],
   "source": [
    "li =[1,2,3,4]\n",
    "print ('%d %d ' % (li[0],li[1]),li[2],li[3])"
   ]
  },
  {
   "cell_type": "code",
   "execution_count": 16,
   "metadata": {},
   "outputs": [
    {
     "name": "stdout",
     "output_type": "stream",
     "text": [
      "List Item 0 :Python \n",
      "List Item 1:Programming\n"
     ]
    }
   ],
   "source": [
    "# .format\n",
    "li = [\"Python\",\"Programming\"]\n",
    "print(\"List Item 0 :{0} \\nList Item 1:{1}\".format(li[0],li[1]))"
   ]
  },
  {
   "cell_type": "markdown",
   "metadata": {},
   "source": [
    "## Data stuctures\n",
    "- list\n",
    "- tuples\n",
    "- dictionaries\n"
   ]
  },
  {
   "cell_type": "markdown",
   "metadata": {},
   "source": [
    "## Dictionaries\n",
    "- it works on unique data \n",
    "- it al ways work with key value\n",
    "- ecah key is seprated from value colon(:)\n",
    "- each key and value is seprated by comma(,)\n",
    "- dictionaries are enclosed with curly bracket ({})"
   ]
  },
  {
   "cell_type": "code",
   "execution_count": 17,
   "metadata": {},
   "outputs": [
    {
     "name": "stdout",
     "output_type": "stream",
     "text": [
      "{'name': 'gitam', 'email_id': 'gitam @gmail.com', 'adress': 'vskp'}\n"
     ]
    }
   ],
   "source": [
    "d1={\"name\":\"gitam\",\"email_id\":\"gitam @gmail.com\",\"adress\":\"vskp\" }\n",
    "print(d1)"
   ]
  },
  {
   "cell_type": "code",
   "execution_count": 18,
   "metadata": {},
   "outputs": [
    {
     "data": {
      "text/plain": [
       "'gitam @gmail.com'"
      ]
     },
     "execution_count": 18,
     "metadata": {},
     "output_type": "execute_result"
    }
   ],
   "source": [
    "d1[\"email_id\"]"
   ]
  },
  {
   "cell_type": "code",
   "execution_count": 19,
   "metadata": {},
   "outputs": [],
   "source": [
    "d1[\"email_id\"]=\"rangabothi@gmail.com\""
   ]
  },
  {
   "cell_type": "code",
   "execution_count": 20,
   "metadata": {},
   "outputs": [
    {
     "data": {
      "text/plain": [
       "'rangabothi@gmail.com'"
      ]
     },
     "execution_count": 20,
     "metadata": {},
     "output_type": "execute_result"
    }
   ],
   "source": [
    "d1[\"email_id\"]"
   ]
  },
  {
   "cell_type": "code",
   "execution_count": 22,
   "metadata": {},
   "outputs": [
    {
     "data": {
      "text/plain": [
       "dict_keys(['name', 'email_id', 'adress'])"
      ]
     },
     "execution_count": 22,
     "metadata": {},
     "output_type": "execute_result"
    }
   ],
   "source": [
    "d1.keys()# print all the key of a dictionarires"
   ]
  },
  {
   "cell_type": "code",
   "execution_count": 23,
   "metadata": {},
   "outputs": [
    {
     "data": {
      "text/plain": [
       "dict_values(['gitam', 'rangabothi@gmail.com', 'vskp'])"
      ]
     },
     "execution_count": 23,
     "metadata": {},
     "output_type": "execute_result"
    }
   ],
   "source": [
    "d1.values()# print all the values of a dictionarires"
   ]
  },
  {
   "cell_type": "code",
   "execution_count": 31,
   "metadata": {},
   "outputs": [
    {
     "ename": "KeyError",
     "evalue": "'adress'",
     "output_type": "error",
     "traceback": [
      "\u001b[1;31m---------------------------------------------------------------------------\u001b[0m",
      "\u001b[1;31mKeyError\u001b[0m                                  Traceback (most recent call last)",
      "\u001b[1;32m<ipython-input-31-22e61922c394>\u001b[0m in \u001b[0;36m<module>\u001b[1;34m\u001b[0m\n\u001b[1;32m----> 1\u001b[1;33m \u001b[1;32mdel\u001b[0m \u001b[0md1\u001b[0m\u001b[1;33m[\u001b[0m\u001b[1;34m\"adress\"\u001b[0m\u001b[1;33m]\u001b[0m \u001b[1;31m# the key and its value\u001b[0m\u001b[1;33m\u001b[0m\u001b[1;33m\u001b[0m\u001b[0m\n\u001b[0m",
      "\u001b[1;31mKeyError\u001b[0m: 'adress'"
     ]
    }
   ],
   "source": [
    "del d1[\"adress\"] # the key and its value"
   ]
  },
  {
   "cell_type": "code",
   "execution_count": 38,
   "metadata": {},
   "outputs": [
    {
     "name": "stdout",
     "output_type": "stream",
     "text": [
      "{'name': 'gitam', 'adress': 'abc', 'email_id': 'abc@gmail.com'}\n"
     ]
    }
   ],
   "source": [
    "print(d1)"
   ]
  },
  {
   "cell_type": "code",
   "execution_count": 35,
   "metadata": {},
   "outputs": [],
   "source": [
    "d1[\"adress\"]=\"abc\"\n"
   ]
  },
  {
   "cell_type": "code",
   "execution_count": 37,
   "metadata": {},
   "outputs": [],
   "source": [
    "d1[\"email_id\"]=\"abc@gmail.com\""
   ]
  },
  {
   "cell_type": "code",
   "execution_count": 40,
   "metadata": {},
   "outputs": [
    {
     "name": "stdout",
     "output_type": "stream",
     "text": [
      "{'name': 'gitam', 'adress': 'abc', 'email_id': 'abc@gmail.com'}\n"
     ]
    }
   ],
   "source": [
    "print(d1)"
   ]
  },
  {
   "cell_type": "markdown",
   "metadata": {},
   "source": [
    "## contact application\n",
    "- Add Contact Details\n",
    "- search the contacts details \n",
    "- lists all the contacts  \n"
   ]
  },
  {
   "cell_type": "code",
   "execution_count": 6,
   "metadata": {},
   "outputs": [
    {
     "name": "stdout",
     "output_type": "stream",
     "text": [
      "contact details are add sucessfully\n",
      "contact details are add sucessfully\n",
      "name is already exists\n"
     ]
    }
   ],
   "source": [
    "contacts ={}#empty dict object\n",
    "#lets create a function to add contact detials\n",
    "def addcontact(name,phone):\n",
    "    if name not in contacts : #condition to check name is exists or naot\n",
    "        contacts[name] = phone \n",
    "        print ('contact details are add sucessfully')\n",
    "    else:\n",
    "        print('name is already exists')\n",
    "    return\n",
    "addcontact('deepak','646465757858')\n",
    "addcontact('hello','6455677858')\n",
    "addcontact('deepak','646465757858')"
   ]
  },
  {
   "cell_type": "code",
   "execution_count": null,
   "metadata": {},
   "outputs": [],
   "source": []
  },
  {
   "cell_type": "code",
   "execution_count": null,
   "metadata": {},
   "outputs": [
    {
     "name": "stdout",
     "output_type": "stream",
     "text": [
      "enter keyhd\n"
     ]
    }
   ],
   "source": [
    "# to enter the values inti dict using loop\n",
    "d1={}\n",
    "for i in range(2):\n",
    "    key = input(\"enter key\")\n",
    "    val = input('enter value')\n",
    "    d1[key]=val\n",
    "d1"
   ]
  },
  {
   "cell_type": "code",
   "execution_count": 9,
   "metadata": {},
   "outputs": [
    {
     "name": "stdout",
     "output_type": "stream",
     "text": [
      "deepak :  646465757858\n",
      "hello :  6455677858\n",
      "deedoes not present\n"
     ]
    }
   ],
   "source": [
    "def searchContact(name):\n",
    "    if name in contacts:\n",
    "        print(name,\": \",contacts[name])\n",
    "    else:\n",
    "        print('{0}does not present'.format(name))\n",
    "        #print ('%s does not present ' % name)\n",
    "    return\n",
    "searchContact('deepak')\n",
    "searchContact('hello')\n",
    "searchContact('dee')"
   ]
  },
  {
   "cell_type": "code",
   "execution_count": 14,
   "metadata": {},
   "outputs": [
    {
     "data": {
      "text/plain": [
       "{'deepak': '646465757858', 'hello': '6455677858'}"
      ]
     },
     "execution_count": 14,
     "metadata": {},
     "output_type": "execute_result"
    }
   ],
   "source": [
    "contacts"
   ]
  },
  {
   "cell_type": "code",
   "execution_count": 16,
   "metadata": {},
   "outputs": [
    {
     "name": "stdout",
     "output_type": "stream",
     "text": [
      "3 contacts are added \n"
     ]
    }
   ],
   "source": [
    "#import new contact details \n",
    "# merge the previous details with new details\n",
    "def importContact(newcontact):\n",
    "    contacts.update(newcontact)\n",
    "    print(len(newcontact.keys()),'contacts are added ')\n",
    "    return\n",
    "newcontact ={'gitam':9977554433,'anil':7766889900,'hello':9843002177}\n",
    "importContact(newcontact)"
   ]
  },
  {
   "cell_type": "code",
   "execution_count": 17,
   "metadata": {},
   "outputs": [
    {
     "data": {
      "text/plain": [
       "{'deepak': '646465757858',\n",
       " 'hello': 9843002177,\n",
       " 'gitam': 9977554433,\n",
       " 'anil': 7766889900}"
      ]
     },
     "execution_count": 17,
     "metadata": {},
     "output_type": "execute_result"
    }
   ],
   "source": [
    "contacts"
   ]
  },
  {
   "cell_type": "code",
   "execution_count": 21,
   "metadata": {},
   "outputs": [
    {
     "name": "stdout",
     "output_type": "stream",
     "text": [
      "ajay not exists\n",
      "gitam updated sucessfully\n",
      "deepak updated sucessfully\n"
     ]
    }
   ],
   "source": [
    "def modifyContact(name,phone ):\n",
    "    if name in contacts :\n",
    "        contacts [name]=phone \n",
    "        print(name,'updated sucessfully')\n",
    "    else :\n",
    "            print (name,'not exists')\n",
    "    return \n",
    "modifyContact('ajay',65758976764 )\n",
    "modifyContact('gitam',7484993098 )\n",
    "modifyContact('deepak',7735767327 )\n"
   ]
  },
  {
   "cell_type": "code",
   "execution_count": 22,
   "metadata": {},
   "outputs": [
    {
     "name": "stdout",
     "output_type": "stream",
     "text": [
      "ajay not presnt \n"
     ]
    }
   ],
   "source": [
    "def deleteContacts(name):\n",
    "    if name in contacts :\n",
    "        del contacts [name]\n",
    "        print(name,'deleted sucessfully')\n",
    "    else:\n",
    "        print(name ,'not presnt ')\n",
    "    return\n",
    "deleteContacts('ajay')"
   ]
  },
  {
   "cell_type": "code",
   "execution_count": 23,
   "metadata": {},
   "outputs": [
    {
     "data": {
      "text/plain": [
       "{'deepak': 7735767327,\n",
       " 'hello': 9843002177,\n",
       " 'gitam': 7484993098,\n",
       " 'anil': 7766889900}"
      ]
     },
     "execution_count": 23,
     "metadata": {},
     "output_type": "execute_result"
    }
   ],
   "source": [
    "contacts\n"
   ]
  },
  {
   "cell_type": "markdown",
   "metadata": {},
   "source": [
    "### tuples \n",
    "- tuples enclosed with parenthesis()\n",
    "# differences between tuples and list\n",
    "- list are mutable  --- can be changed / modify\n",
    "   - read and write the data \n",
    "- tuples are immutable  -- cant be changed / modified \n",
    "   - read data only"
   ]
  },
  {
   "cell_type": "code",
   "execution_count": 25,
   "metadata": {},
   "outputs": [
    {
     "name": "stdout",
     "output_type": "stream",
     "text": [
      "(1, 2, 3, 4)\n"
     ]
    }
   ],
   "source": [
    "t1= (1,2,3,4)\n",
    "print(t1)\n"
   ]
  },
  {
   "cell_type": "code",
   "execution_count": 26,
   "metadata": {},
   "outputs": [
    {
     "name": "stdout",
     "output_type": "stream",
     "text": [
      "(2, 1)\n"
     ]
    }
   ],
   "source": [
    "print(t1[1::-1])"
   ]
  },
  {
   "cell_type": "code",
   "execution_count": 28,
   "metadata": {},
   "outputs": [
    {
     "name": "stdout",
     "output_type": "stream",
     "text": [
      "(2, 3)\n"
     ]
    }
   ],
   "source": [
    "print(t1[1:-1])"
   ]
  },
  {
   "cell_type": "code",
   "execution_count": null,
   "metadata": {},
   "outputs": [],
   "source": []
  },
  {
   "cell_type": "markdown",
   "metadata": {},
   "source": [
    "## standard libraries\n",
    "- regular expression\n",
    "    - to validate the indian mobile\n",
    "    - to validate the emailid\n",
    "    - to validate the username\n",
    "    - to validate the password\n",
    "- understanding the regular expression\n",
    "   - [0-9] -- any digit matching\n",
    "   - [a-z] -- any lower case expresion matching\n",
    "   - [A-Z] -- any upper case expresion matching\n",
    "   - \"^\" cap symboll used to reprsent the start of the regular expression \n",
    "   - \"$\" dolar symboll used to reprsent the of the regular expression"
   ]
  },
  {
   "cell_type": "code",
   "execution_count": 29,
   "metadata": {},
   "outputs": [
    {
     "name": "stdout",
     "output_type": "stream",
     "text": [
      "True\n",
      "False\n"
     ]
    }
   ],
   "source": [
    "# function to test the two digit number as input \n",
    "# true -- input two digit \n",
    "# false -- input not a two digit number\n",
    "import re\n",
    "def twoDigitMatching(n):\n",
    "    pattern ='^[0-9]{2}$'\n",
    "    n =str(n)\n",
    "    if re.match (pattern,n):\n",
    "        return True\n",
    "    return False\n",
    "print(twoDigitMatching(12))\n",
    "print(twoDigitMatching(123))\n"
   ]
  },
  {
   "cell_type": "code",
   "execution_count": 30,
   "metadata": {},
   "outputs": [
    {
     "name": "stdout",
     "output_type": "stream",
     "text": [
      "True\n",
      "False\n"
     ]
    }
   ],
   "source": [
    "# regular expression for username \n",
    "# username -- sholud contain lower and upper case characters\n",
    "#length -- min5 and max 12\n",
    "def validateusername(n):\n",
    "    pattern='^[a-zA-Z]{4,11}$'\n",
    "    if re.match(pattern,n):\n",
    "        return True\n",
    "    return False\n",
    "print(validateusername('deepakrella'))\n",
    "print(validateusername('ah_rangabothi_kona_kolase'))\n"
   ]
  },
  {
   "cell_type": "markdown",
   "metadata": {},
   "source": [
    "## regular expression\n",
    "- regular expression for rollnumber\n",
    "    - ex: dee213# valid\n",
    "    - ex: 678678# not valid\n",
    "- regular expression for password \n",
    "    - parameters expression for password \n",
    "    - accept lowercase, uppercase and special symbolls(@,$)\n",
    "    - ex: pass@123 valid \n",
    "    - ex: pass123 invalid\n",
    "    "
   ]
  },
  {
   "cell_type": "markdown",
   "metadata": {},
   "source": [
    "### regular expression for indian mobile no\n",
    "- 10 digit number\n",
    "    - first number is starts from [6-9]\n",
    "    - rest of 9 number is bettween [0-9]\n",
    "       - ex: 7735763727 # valid\n",
    "       - ex: 94396839732 #not valid\n",
    "- 11 digit number\n",
    "    - first number can be 0\n",
    "    - second number is starts from [6-9]\n",
    "    - rest of 9 number is bettween [0-9]\n",
    "       - ex: 7735763727 # valid\n",
    "       - ex: 94396839732 #not valid\n",
    "- 13  digit number\n",
    "     - first will + symboll\n",
    "     - second  number can be 9\n",
    "     - third number cab be 1\n",
    "     - forth "
   ]
  },
  {
   "cell_type": "code",
   "execution_count": 8,
   "metadata": {},
   "outputs": [
    {
     "data": {
      "text/plain": [
       "True"
      ]
     },
     "execution_count": 8,
     "metadata": {},
     "output_type": "execute_result"
    }
   ],
   "source": [
    "import re\n",
    "def validatephno(n):\n",
    "    pattern ='^[6-9][0-9]{9}$|^[0][6-9][0-9]{9}$|^[+][9][1][6-9][0-9]{9}$'\n",
    "    n= str(n)\n",
    "    if re.match(pattern,n):\n",
    "        return True\n",
    "    return False\n",
    "validatephno('+917735767327')\n",
    "       "
   ]
  },
  {
   "cell_type": "markdown",
   "metadata": {},
   "source": [
    "# validate emailId\n",
    "- example - username@domainName.extension\n",
    "\n",
    "- username \n",
    "   - len of string will be [6-15]\n",
    "   - no spcial character except underscore() and dot(.)\n",
    "   - username should not begins  with underscore()\n",
    "   - all character set digits , lower case and uper case\n",
    "      - ex: deepak9\n",
    "- domain name \n",
    "   - len of string will be [3-18]\n",
    "   - no spls character\n",
    "   - characters set will be digits, loercase , uppercase \n",
    "   \n",
    "- extension\n",
    "   - len of string will be [2-4]\n",
    "   - no spl character allowed\n",
    "   - character set character will be lower case charater\n",
    "      \n",
    "  "
   ]
  },
  {
   "cell_type": "code",
   "execution_count": 24,
   "metadata": {},
   "outputs": [
    {
     "name": "stdout",
     "output_type": "stream",
     "text": [
      "deepakrella9@gmail.com update sucessfully\n",
      "deepakrella9@gmail not exists\n",
      "546576879 not exists\n"
     ]
    }
   ],
   "source": [
    "import re\n",
    "def validateEmailid(name):\n",
    "    pattern ='^[0-9a-zA-Z][0-9a-zA-Z_.]{5,14}[@][a-z0-9]{3,18}[.][a-z]{2,4}$'\n",
    "    name= str(name)\n",
    "    if re.match(pattern,name):\n",
    "        print (name,'update sucessfully')\n",
    "    else:\n",
    "        print (name,'not exists')\n",
    "    return \n",
    "validateEmailid('deepakrella9@gmail.com')\n",
    "validateEmailid('deepakrella9@gmail')\n",
    "validateEmailid('546576879')\n",
    "\n",
    "       "
   ]
  },
  {
   "cell_type": "markdown",
   "metadata": {},
   "source": [
    "# Package , Module and Sub package \n",
    "### package \n",
    "    - A collection of module (single python file.py)\n",
    "### module\n",
    "   - A single python file contains group of function \n",
    "    - Package :\n",
    "              - Sub package\n",
    "              - modules\n",
    "              - function\n",
    "              - statements\n",
    "    - import keywords is used to import the external lib package into the python program\n",
    "    "
   ]
  },
  {
   "cell_type": "code",
   "execution_count": 29,
   "metadata": {},
   "outputs": [
    {
     "data": {
      "text/plain": [
       "123"
      ]
     },
     "execution_count": 29,
     "metadata": {},
     "output_type": "execute_result"
    }
   ],
   "source": [
    "import math\n",
    "math.floor(123.456)"
   ]
  },
  {
   "cell_type": "code",
   "execution_count": 30,
   "metadata": {},
   "outputs": [
    {
     "data": {
      "text/plain": [
       "124"
      ]
     },
     "execution_count": 30,
     "metadata": {},
     "output_type": "execute_result"
    }
   ],
   "source": [
    "math.ceil(123.456)"
   ]
  },
  {
   "cell_type": "code",
   "execution_count": 31,
   "metadata": {},
   "outputs": [
    {
     "data": {
      "text/plain": [
       "3628800"
      ]
     },
     "execution_count": 31,
     "metadata": {},
     "output_type": "execute_result"
    }
   ],
   "source": [
    "from math import factorial as fact \n",
    "fact(10)"
   ]
  },
  {
   "cell_type": "code",
   "execution_count": 33,
   "metadata": {},
   "outputs": [
    {
     "data": {
      "text/plain": [
       "5"
      ]
     },
     "execution_count": 33,
     "metadata": {},
     "output_type": "execute_result"
    }
   ],
   "source": [
    "from math import gcd as gcd\n",
    "gcd(10,15)"
   ]
  },
  {
   "cell_type": "code",
   "execution_count": 36,
   "metadata": {},
   "outputs": [
    {
     "name": "stdout",
     "output_type": "stream",
     "text": [
      "95 47 92 1 81 95 84 25 65 26 "
     ]
    }
   ],
   "source": [
    "# import random package \n",
    "import random \n",
    "# function to generate the n numbers in given range \n",
    "def generateRandNum(n,lb,ub):\n",
    "    for i in range(0,n):\n",
    "        print(random.randint(lb,ub),end=' ')\n",
    "    return \n",
    "generateRandNum(10,0,100)\n",
    "    "
   ]
  },
  {
   "cell_type": "code",
   "execution_count": 37,
   "metadata": {},
   "outputs": [
    {
     "name": "stdout",
     "output_type": "stream",
     "text": [
      "[(1, 2), (2, 3)]\n"
     ]
    }
   ],
   "source": [
    "a =[(1,2),(2,3)]\n",
    "print(a)"
   ]
  }
 ],
 "metadata": {
  "kernelspec": {
   "display_name": "Python 3",
   "language": "python",
   "name": "python3"
  },
  "language_info": {
   "codemirror_mode": {
    "name": "ipython",
    "version": 3
   },
   "file_extension": ".py",
   "mimetype": "text/x-python",
   "name": "python",
   "nbconvert_exporter": "python",
   "pygments_lexer": "ipython3",
   "version": "3.7.3"
  }
 },
 "nbformat": 4,
 "nbformat_minor": 2
}
